{
 "cells": [
  {
   "cell_type": "code",
   "execution_count": 1,
   "metadata": {},
   "outputs": [
    {
     "name": "stdout",
     "output_type": "stream",
     "text": [
      "<Cell 'NadoSheet'.A1>\n",
      "1\n",
      "None\n",
      "1\n",
      "4\n",
      "10\n"
     ]
    }
   ],
   "source": [
    "from openpyxl import Workbook\n",
    "wb = Workbook()\n",
    "ws = wb.active\n",
    "ws.title = \"NadoSheet\"\n",
    "\n",
    "# A1 셀에 1 이라는 값을 입력\n",
    "ws[\"A1\"] = 1\n",
    "ws[\"A2\"] = 2\n",
    "ws[\"A3\"] = 3\n",
    "\n",
    "ws[\"B1\"] = 4\n",
    "ws[\"B2\"] = 5\n",
    "ws[\"B3\"] = 6\n",
    "\n",
    "print(ws[\"A1\"]) # A1 셀의 정보를 출력\n",
    "print(ws[\"A1\"].value) # A1 셀의 '값'을 출력\n",
    "print(ws[\"A10\"].value) # 값이 없을 땐 'None' 를 출력\n",
    "\n",
    "# row = 1,2,3 ..\n",
    "# column = A(1), B(2), C(3), ...\n",
    "print(ws.cell(column=1, row=1).value) # ws[\"A1\"].value\n",
    "print(ws.cell(column=2, row=1).value) # ws[\"B1\"].value\n",
    "\n",
    "c = ws.cell(column=3, row=1, value=10) # ws[\"C1\"].value = 10\n",
    "print(c.value) # ws[\"C!\"]\n",
    "\n",
    "# 렌덤 엑셀 시트 생성\n",
    "from random import *  # 원래는 프로그램 첫 부분에 작성하지만, 편이상 설명하기 위해 여기에 적음\n",
    "\n",
    "# 반복문을 이용해서 랜덤 숫자 채우기\n",
    "index = 1\n",
    "for  x in range(1, 11):  # 10개 row\n",
    "    for y in range(1, 11):  # 10개 column\n",
    "        # ws.cell(row=x, column=y, value=randint(0, 100))  # 0~ 100 사이의 숫자\n",
    "        ws.cell(row=x, column=y, value=index) # 처리되는 순서를 보기 위해 index를 이용\n",
    "\n",
    "wb.save(\"sample.xlsx\")"
   ]
  },
  {
   "cell_type": "code",
   "execution_count": null,
   "metadata": {},
   "outputs": [],
   "source": []
  }
 ],
 "metadata": {
  "kernelspec": {
   "display_name": "Python 3",
   "language": "python",
   "name": "python3"
  },
  "language_info": {
   "codemirror_mode": {
    "name": "ipython",
    "version": 3
   },
   "file_extension": ".py",
   "mimetype": "text/x-python",
   "name": "python",
   "nbconvert_exporter": "python",
   "pygments_lexer": "ipython3",
   "version": "3.8.3"
  }
 },
 "nbformat": 4,
 "nbformat_minor": 4
}
