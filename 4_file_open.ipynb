{
 "cells": [
  {
   "cell_type": "code",
   "execution_count": 6,
   "metadata": {},
   "outputs": [
    {
     "name": "stdout",
     "output_type": "stream",
     "text": [
      "1 1 1 1 1 1 1 1 1 1 \n",
      "1 1 1 1 1 1 1 1 1 1 \n",
      "1 1 1 1 1 1 1 1 1 1 \n",
      "1 1 1 1 1 1 1 1 1 1 \n",
      "1 1 1 1 1 1 1 1 1 1 \n",
      "1 1 1 1 1 1 1 1 1 1 \n",
      "1 1 1 1 1 1 1 1 1 1 \n",
      "1 1 1 1 1 1 1 1 1 1 \n",
      "1 1 1 1 1 1 1 1 1 1 \n",
      "1 1 1 1 1 1 1 1 1 1 \n"
     ]
    }
   ],
   "source": [
    "from openpyxl import load_workbook # 파일 불러오기 \n",
    "wb = load_workbook(\"sample.xlsx\")  # sample.xlsx 파일에서 wb 를 불러옴 \n",
    "ws = wb.active   # 활성화된 Sheet \n",
    "\n",
    "# cell 데이터 불러오기 \n",
    "# for x in range(1, 11): \n",
    "#     for y in range(1, 11): \n",
    "#         print(ws.cell(row=x, column=y).value, end=\" \") # 1 2 3 ... \n",
    "#     print() \n",
    "   \n",
    "# cell 갯수를 모를 \n",
    "for x in range(1, ws.max_row +1): \n",
    "    for y in range(1, ws.max_column +1): \n",
    "        print(ws.cell(row=x, column=y).value, end=\" \") # 1 2 3 ... \n",
    "    print() "
   ]
  },
  {
   "cell_type": "code",
   "execution_count": null,
   "metadata": {},
   "outputs": [],
   "source": []
  }
 ],
 "metadata": {
  "kernelspec": {
   "display_name": "Python 3",
   "language": "python",
   "name": "python3"
  },
  "language_info": {
   "codemirror_mode": {
    "name": "ipython",
    "version": 3
   },
   "file_extension": ".py",
   "mimetype": "text/x-python",
   "name": "python",
   "nbconvert_exporter": "python",
   "pygments_lexer": "ipython3",
   "version": "3.8.3"
  }
 },
 "nbformat": 4,
 "nbformat_minor": 4
}
