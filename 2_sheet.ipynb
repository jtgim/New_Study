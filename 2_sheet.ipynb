{
 "cells": [
  {
   "cell_type": "code",
   "execution_count": 5,
   "metadata": {},
   "outputs": [
    {
     "name": "stdout",
     "output_type": "stream",
     "text": [
      "['Sheet', 'MySheet', 'NewSheet']\n"
     ]
    }
   ],
   "source": [
    "from openpyxl import Workbook\n",
    "wb = Workbook()\n",
    "wb.active\n",
    "ws = wb.create_sheet() # 새로운 Sheet 기본 이름으로 생성\\n\",\n",
    "\n",
    "ws.title = \"MySheet\"  # Sheet 이름 변경\\n\",\n",
    "ws.sheet_properties.tabColor = \"ff66ff\" # RGB 형태로 값을 넣어주면 탬색상 변경\\n\",\n",
    "\n",
    "\n",
    "# Sheet, MySheet, YourSheet\\n\",\n",
    "ws2 = wb.create_sheet(\"NewSheet\", 2) # 주어진 이름으로 Sheet 생성\\n\",\n",
    "\n",
    "new_ws = wb[\"NewSheet\"] # Dict 형태로 Sheet 에 접근\\n\",\n",
    "\n",
    "print(wb.sheetnames) # 모든 Sheet 이름 확인\\n\",\n",
    "\n",
    "# Sheet 복사\\n\",\n",
    "new_ws[\"A1\"] = \"Test\"\n",
    "target = wb.copy_worksheet(new_ws)\n",
    "target.title = \"Copied Sheet\"\n",
    "\n",
    "wb.save(\"sample.xlsx\")\n"
   ]
  },
  {
   "cell_type": "code",
   "execution_count": null,
   "metadata": {},
   "outputs": [],
   "source": []
  }
 ],
 "metadata": {
  "anaconda-cloud": {},
  "kernelspec": {
   "display_name": "Python 3",
   "language": "python",
   "name": "python3"
  },
  "language_info": {
   "codemirror_mode": {
    "name": "ipython",
    "version": 3
   },
   "file_extension": ".py",
   "mimetype": "text/x-python",
   "name": "python",
   "nbconvert_exporter": "python",
   "pygments_lexer": "ipython3",
   "version": "3.8.3"
  }
 },
 "nbformat": 4,
 "nbformat_minor": 4
}
